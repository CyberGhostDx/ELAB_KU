





message = "hello"

def greet():
    message = "CPE"
    print("Local", message)
    message = "CPE"


greet()

print("Global", message)





message = "hello"

def greet():
    global message
    print("Local", message)
    message = "CPE"
    
greet()

print("Global", message)





message = "global"

def outer():
    message = "local"

    def inner():

        nonlocal message  # nonlocal variables only use in nested functions
        message = 'nonlocal'
        def inner2():
            nonlocal message

            message = 'nonlocal 2'
            print("inner 2:",message)
        inner2()
        #message = "nonlocal"
        print("inner:", message)

    inner()
    print("outer:", message)

outer()
print("main:", message)





c = 1

def add():
    #global c
    
    c = c+2
    
    print(c)
    
add()





def outer_function():
    global num
    num = 20

    def inner_function():
        global num
        num = 25
        #print("call in inner_..:", num)

    print('Before calling inner_..:', num)
    inner_function()
    print('After calling inner_..:', num)
    
outer_function()
print('Outside both functions: ', num)





x = [1,2,3]
print(x.extend([4,5,6]))
print(x.sort(reverse=True))
print(sorted(x,reverse=True))
print(x)





y = [1,2,3]
a = []
a.extend(y)
b = [] + y
c = y.copy()
d = y
d[2] = 5
y[1] = 4
print("y:",y)
print("a:",a)
print("b:",b)
print("c:",c)
print("d:",d)





z = [[0]*2]*2
z


# for x in z:
#    print(x)
print(z)
z[0][0] = 2
print(z[0][0])
print(z[1][0])
#for x in z:
#    print(x)








for i in range(10):
    print(i)
else:
    print("Finished")





for i in range(10):
    print(i)
    if i == 2:
        break
else:
    print("Finished")





i = 0
while i < 10:
    print(i)
    i += 1
else:
    print("finished")





i = 0
while i < 10:
    print(i)
    if i == 2:
        break
    i += 1
else:
    print("finished")








2 ** 3 ** 2





10 / 5 % 5





int("00")








def writeFile(s,filename):
    f = open(filename,'w')
    f.write(s)
    f.close()


s = '''Hello World
Test
1
2
3
4
'''
writeFile(s,'mytext.txt')






file = open('mytext.txt')

print(file)

for line in file:
    print(line)
file.close()





file = open('mytext.txt','r')
txt = file.read()
print(txt)
file.close()





with open('mytext.txt') as file:
    txt = file.read()
    
print(txt)





file = open('mytext.txt','r')
txt = file.read(5) # read first 5 characters
print(txt)





with open('mytext.txt','r') as file:
    txt = file.readlines()
print(txt)
print([x.strip() for x in txt])
for line in txt:
    line = line.strip()
    print(line)





file = open('mytext.txt','w')
file.write("Test")
file.close()

file = open('mytext.txt','w')
file.write("Tesco")
file.close()

with open('mytext.txt','r') as file:
    print(file.read())






file = open('mytext.txt','w')
file.write("Test")
file.close()

with open('mytext.txt','r') as file:
    print(file.read())

file = open('mytext.txt','a')
file.write('Append')
file.close()

with open('mytext.txt','r') as file:
    print(file.read())


y = lambda x: x+1
y(1)

def y(x)
    return x + 1


z = lambda : print('K')
z()


u = lambda x: lambda y: x + y
v = u(3)
print(v(2))


def u(x):
    def y(o):
        return o + x
    return y

v = u(6)
print(v)
print(v(3))




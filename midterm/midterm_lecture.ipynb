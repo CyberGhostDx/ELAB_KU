{
 "cells": [
  {
   "cell_type": "markdown",
   "id": "d42fa301-2e49-4fd9-a071-67307b8f55c1",
   "metadata": {},
   "source": [
    "## Global variables\n",
    "---"
   ]
  },
  {
   "cell_type": "markdown",
   "id": "e1620df2-0e24-4a71-9496-0bb32e6e79cc",
   "metadata": {},
   "source": [
    "### Case 1"
   ]
  },
  {
   "cell_type": "code",
   "execution_count": 86,
   "id": "1637b477-d2c2-4697-94c3-13bb2a1d17e2",
   "metadata": {},
   "outputs": [
    {
     "name": "stdout",
     "output_type": "stream",
     "text": [
      "Local CPE\n",
      "Global hello\n"
     ]
    }
   ],
   "source": [
    "message = \"hello\"\n",
    "\n",
    "def greet():\n",
    "    message = \"CPE\"\n",
    "    print(\"Local\", message)\n",
    "    message = \"CPE\"\n",
    "\n",
    "\n",
    "greet()\n",
    "\n",
    "print(\"Global\", message)"
   ]
  },
  {
   "cell_type": "markdown",
   "id": "25a818b3-54dd-413a-ab60-a310b73a9e0b",
   "metadata": {},
   "source": [
    "### Case 2"
   ]
  },
  {
   "cell_type": "code",
   "execution_count": 89,
   "id": "8c5be5c3-1459-4fc9-936c-6026756f9665",
   "metadata": {},
   "outputs": [
    {
     "name": "stdout",
     "output_type": "stream",
     "text": [
      "Local hello\n",
      "Global CPE\n"
     ]
    }
   ],
   "source": [
    "message = \"hello\"\n",
    "\n",
    "def greet():\n",
    "    global message\n",
    "    print(\"Local\", message)\n",
    "    message = \"CPE\"\n",
    "    \n",
    "greet()\n",
    "\n",
    "print(\"Global\", message)"
   ]
  },
  {
   "cell_type": "markdown",
   "id": "e2359874-860f-4b4e-bde1-d10886dde7da",
   "metadata": {},
   "source": [
    "## Local variables\n",
    "---"
   ]
  },
  {
   "cell_type": "code",
   "execution_count": 96,
   "id": "70d2d463-27a3-4633-b9ac-bdec7a2923fc",
   "metadata": {},
   "outputs": [
    {
     "name": "stdout",
     "output_type": "stream",
     "text": [
      "inner 2: nonlocal 2\n",
      "inner: nonlocal 2\n",
      "outer: nonlocal 2\n",
      "main: global\n"
     ]
    }
   ],
   "source": [
    "message = \"global\"\n",
    "\n",
    "def outer():\n",
    "    message = \"local\"\n",
    "\n",
    "    def inner():\n",
    "\n",
    "        nonlocal message  # nonlocal variables only use in nested functions\n",
    "        message = 'nonlocal'\n",
    "        def inner2():\n",
    "            nonlocal message\n",
    "\n",
    "            message = 'nonlocal 2'\n",
    "            print(\"inner 2:\",message)\n",
    "        inner2()\n",
    "        #message = \"nonlocal\"\n",
    "        print(\"inner:\", message)\n",
    "\n",
    "    inner()\n",
    "    print(\"outer:\", message)\n",
    "\n",
    "outer()\n",
    "print(\"main:\", message)"
   ]
  },
  {
   "cell_type": "markdown",
   "id": "91fea37a-84b4-4999-826c-e4f26ddc9669",
   "metadata": {},
   "source": [
    "## Global Keyword\n",
    "---"
   ]
  },
  {
   "cell_type": "code",
   "execution_count": 99,
   "id": "355bfefe-b230-41a2-b0fe-fef933414922",
   "metadata": {},
   "outputs": [
    {
     "name": "stdout",
     "output_type": "stream",
     "text": [
      "6\n"
     ]
    }
   ],
   "source": [
    "c = 1\n",
    "\n",
    "def add():\n",
    "    #global c\n",
    "    \n",
    "    c = c+2\n",
    "    \n",
    "    print(c)\n",
    "    \n",
    "add()"
   ]
  },
  {
   "cell_type": "markdown",
   "id": "5a876593-51dd-4faf-8c22-0689cd1c10ac",
   "metadata": {},
   "source": [
    "## Global in nested functions\n",
    "---"
   ]
  },
  {
   "cell_type": "code",
   "execution_count": 102,
   "id": "c260016b-2edc-4549-b0ef-6662cf13949e",
   "metadata": {},
   "outputs": [
    {
     "name": "stdout",
     "output_type": "stream",
     "text": [
      "Before calling inner_..: 20\n",
      "After calling inner_..: 25\n",
      "Outside both functions:  25\n"
     ]
    }
   ],
   "source": [
    "def outer_function():\n",
    "    global num\n",
    "    num = 20\n",
    "\n",
    "    def inner_function():\n",
    "        global num\n",
    "        num = 25\n",
    "        #print(\"call in inner_..:\", num)\n",
    "\n",
    "    print('Before calling inner_..:', num)\n",
    "    inner_function()\n",
    "    print('After calling inner_..:', num)\n",
    "    \n",
    "outer_function()\n",
    "print('Outside both functions: ', num)"
   ]
  },
  {
   "cell_type": "markdown",
   "id": "32054086-e29e-4221-93c3-20e0f32bb22d",
   "metadata": {},
   "source": [
    "## Mutation list\n",
    "---"
   ]
  },
  {
   "cell_type": "code",
   "execution_count": 112,
   "id": "c27173c5-af24-4c80-9a1d-da0a73e04d3b",
   "metadata": {},
   "outputs": [
    {
     "name": "stdout",
     "output_type": "stream",
     "text": [
      "None\n",
      "None\n",
      "[6, 5, 4, 3, 2, 1]\n",
      "[6, 5, 4, 3, 2, 1]\n"
     ]
    }
   ],
   "source": [
    "x = [1,2,3]\n",
    "print(x.extend([4,5,6]))\n",
    "print(x.sort(reverse=True))\n",
    "print(sorted(x,reverse=True))\n",
    "print(x)"
   ]
  },
  {
   "cell_type": "markdown",
   "id": "89c6466e-2baf-4d30-b045-b9d4b110c744",
   "metadata": {},
   "source": [
    "ตง<br>\n",
    "4 5 6 3 2 1<br>\n",
    "4 5 6 3 2 1<br>\n",
    "1 2 3 4 5 6<br>\n",
    "<br>\n",
    "ตั๋น<br>\n",
    "6 5 4 3 2 1<br>\n",
    "1 2 3 4 5 6<br>\n",
    "1 2 3 4 5 6<br>\n",
    "<br>\n",
    "เนตร <br>\n",
    "4 5 6 3 2 1<br>\n",
    "4 5 6 3 2 1<br>\n",
    "1 2 3 4 5 6<br>\n",
    "<br>\n",
    "ซัน\n",
    "None<br>\n",
    "6 5 4 3 2 1<br>\n",
    "1 2 3 4 5 6<br>"
   ]
  },
  {
   "cell_type": "code",
   "execution_count": 119,
   "id": "26b22359-0965-401c-a775-6dc9096eb264",
   "metadata": {},
   "outputs": [
    {
     "name": "stdout",
     "output_type": "stream",
     "text": [
      "y: [1, 4, 5]\n",
      "a: [1, 2, 3]\n",
      "b: [1, 2, 3]\n",
      "c: [1, 2, 3]\n",
      "d: [1, 4, 5]\n"
     ]
    }
   ],
   "source": [
    "y = [1,2,3]\n",
    "a = []\n",
    "a.extend(y)\n",
    "b = [] + y\n",
    "c = y.copy()\n",
    "d = y\n",
    "d[2] = 5\n",
    "y[1] = 4\n",
    "print(\"y:\",y)\n",
    "print(\"a:\",a)\n",
    "print(\"b:\",b)\n",
    "print(\"c:\",c)\n",
    "print(\"d:\",d)"
   ]
  },
  {
   "cell_type": "markdown",
   "id": "d3c54e16-1016-4337-b23b-c2adc13e97df",
   "metadata": {},
   "source": [
    "ตง<br>\n",
    "1 4 3\n",
    "1 4 3\n",
    "1 4 3\n",
    "1 2 3\n",
    "1 4 3\n",
    "<br>\n",
    "ตั๋น<br>\n",
    "<br>\n",
    "1 2 3\n",
    "1 2 3\n",
    "1 2 3\n",
    "1 2 3\n",
    "<br>\n",
    "เนตร <br>\n",
    "1 4 3\n",
    "1 4 3\n",
    "1 4 3\n",
    "1 4 3\n",
    "1 4 3\n",
    "<br>\n",
    "ซัน\n",
    "1 4 3\n",
    "1 2 3\n",
    "1 2 3\n",
    "1 2 3\n",
    "1 2 3"
   ]
  },
  {
   "cell_type": "code",
   "execution_count": 127,
   "id": "67120ed7-9f43-4b78-9060-b238f3d17bba",
   "metadata": {},
   "outputs": [
    {
     "data": {
      "text/plain": [
       "[[0, 0], [0, 0]]"
      ]
     },
     "execution_count": 127,
     "metadata": {},
     "output_type": "execute_result"
    }
   ],
   "source": [
    "z = [[0]*2]*2\n",
    "z"
   ]
  },
  {
   "cell_type": "code",
   "execution_count": 126,
   "id": "e7772133-77e2-4313-a59b-2775dfb9e876",
   "metadata": {},
   "outputs": [
    {
     "name": "stdout",
     "output_type": "stream",
     "text": [
      "[[2, 0], [2, 0], [2, 0], [2, 0], [2, 0], [2, 0], [2, 0], [2, 0], [2, 0], [2, 0]]\n",
      "2\n",
      "2\n",
      "[[2, 0], [2, 0], [2, 0], [2, 0], [2, 0], [2, 0], [2, 0], [2, 0], [2, 0], [2, 0]]\n"
     ]
    }
   ],
   "source": [
    "# for x in z:\n",
    "#    print(x)\n",
    "print(z)\n",
    "z[0][0] = 2\n",
    "print(z[0][0])\n",
    "print(z[1][0])\n",
    "#for x in z:\n",
    "#    print(x)"
   ]
  },
  {
   "cell_type": "markdown",
   "id": "2e4ba7a6-12bd-449d-937e-1fb343446ea8",
   "metadata": {},
   "source": [
    "ตง\n",
    "2 \n",
    "0\n",
    "ตั๋น\n",
    "2 None\n",
    "เนตร \n",
    "2 0\n",
    "ซัน\n",
    "\n"
   ]
  },
  {
   "cell_type": "markdown",
   "id": "27c8e08c-e388-4354-bb53-0b977e5da081",
   "metadata": {},
   "source": [
    "### Loop\n",
    "---"
   ]
  },
  {
   "cell_type": "code",
   "execution_count": 129,
   "id": "5b90cfd7-5e03-47bc-8386-42bf660cf469",
   "metadata": {},
   "outputs": [
    {
     "name": "stdout",
     "output_type": "stream",
     "text": [
      "0\n",
      "1\n",
      "2\n",
      "3\n",
      "4\n",
      "5\n",
      "6\n",
      "7\n",
      "8\n",
      "9\n",
      "Finished\n"
     ]
    }
   ],
   "source": [
    "for i in range(10):\n",
    "    print(i)\n",
    "else:\n",
    "    print(\"Finished\")"
   ]
  },
  {
   "cell_type": "markdown",
   "id": "af4598f2-91e2-4f52-9443-278a3be202f7",
   "metadata": {},
   "source": [
    "ฮ๊อก\n",
    "0-9 finished\n",
    "ตง\n",
    "0-9\n",
    "เนตร\n",
    "0-9\n",
    "ซัน\n",
    "0-9 finished"
   ]
  },
  {
   "cell_type": "code",
   "execution_count": 130,
   "id": "f762a3ab-c704-4b72-9037-210281149672",
   "metadata": {},
   "outputs": [
    {
     "name": "stdout",
     "output_type": "stream",
     "text": [
      "0\n",
      "1\n",
      "2\n"
     ]
    }
   ],
   "source": [
    "for i in range(10):\n",
    "    print(i)\n",
    "    if i == 2:\n",
    "        break\n",
    "else:\n",
    "    print(\"Finished\")"
   ]
  },
  {
   "cell_type": "markdown",
   "id": "d4ab2bd5-0d39-4dc0-8dd8-8beb2e6db934",
   "metadata": {},
   "source": [
    "ฮ๊อก\n",
    "0-2\n",
    "ตง\n",
    "0-2 Finished\n",
    "เนตร\n",
    "0-2\n",
    "ซัน\n",
    "0-2"
   ]
  },
  {
   "cell_type": "code",
   "execution_count": 131,
   "id": "e75bbfb8-3df8-478d-8167-09e49d352020",
   "metadata": {},
   "outputs": [
    {
     "name": "stdout",
     "output_type": "stream",
     "text": [
      "0\n",
      "1\n",
      "2\n",
      "3\n",
      "4\n",
      "5\n",
      "6\n",
      "7\n",
      "8\n",
      "9\n",
      "finished\n"
     ]
    }
   ],
   "source": [
    "i = 0\n",
    "while i < 10:\n",
    "    print(i)\n",
    "    i += 1\n",
    "else:\n",
    "    print(\"finished\")"
   ]
  },
  {
   "cell_type": "markdown",
   "id": "558a0f0e-54dd-4372-8a9d-5a9c80954d4b",
   "metadata": {},
   "source": [
    "ฟิล์ม\n",
    "0-9 finished\n",
    "ฮ๊อก\n",
    "0-9 finished\n",
    "ตง\n",
    "0-9 Finished\n",
    "เนตร\n",
    "0-9 Finished\n",
    "ซัน\n",
    "0-9 Finished"
   ]
  },
  {
   "cell_type": "code",
   "execution_count": null,
   "id": "e2165c3d-dc2c-4a09-8b6f-760885eb99fc",
   "metadata": {},
   "outputs": [],
   "source": [
    "i = 0\n",
    "while i < 10:\n",
    "    print(i)\n",
    "    if i == 2:\n",
    "        break\n",
    "    i += 1\n",
    "else:\n",
    "    print(\"finished\")"
   ]
  },
  {
   "cell_type": "markdown",
   "id": "3df623f0-b07e-4f08-a5e3-ebe563ead22f",
   "metadata": {},
   "source": [
    "ฟิล์ม\n",
    "0-2\n",
    "ฮ๊อก\n",
    "0-2 \n",
    "ตง\n",
    "0-2 \n",
    "เนตร\n",
    "0-2\n",
    "ซัน\n",
    "0-2"
   ]
  },
  {
   "cell_type": "markdown",
   "id": "09e0e3ae-929b-46d3-9aa0-d49ffdad6f99",
   "metadata": {},
   "source": [
    "### OPERATOR\n",
    "---\n",
    "\n",
    "<img src=\"https://miro.medium.com/v2/resize:fit:1400/format:webp/1*yrtUnw0Y-Wul4jXWSGNg7g.jpeg\" width=\"500\"/>"
   ]
  },
  {
   "cell_type": "code",
   "execution_count": 132,
   "id": "6144aec5-7625-495f-9a8b-4ee6c4c45563",
   "metadata": {},
   "outputs": [
    {
     "data": {
      "text/plain": [
       "512"
      ]
     },
     "execution_count": 132,
     "metadata": {},
     "output_type": "execute_result"
    }
   ],
   "source": [
    "2 ** 3 ** 2"
   ]
  },
  {
   "cell_type": "markdown",
   "id": "2775d5b4-f9e7-48b2-9779-c15831480f8b",
   "metadata": {},
   "source": [
    "เนตร\n",
    "64\n",
    "ตง\n",
    "512\n",
    "พีค\n",
    "512\n",
    "ซัน\n",
    "512\n",
    "ภูมิ\n",
    "64"
   ]
  },
  {
   "cell_type": "code",
   "execution_count": 133,
   "id": "ae8ee58a-6f7a-46ca-9211-b4c4dc298d88",
   "metadata": {},
   "outputs": [
    {
     "data": {
      "text/plain": [
       "2.0"
      ]
     },
     "execution_count": 133,
     "metadata": {},
     "output_type": "execute_result"
    }
   ],
   "source": [
    "10 / 5 % 5"
   ]
  },
  {
   "cell_type": "markdown",
   "id": "409f5043-1019-4bad-bc54-d3eac52af158",
   "metadata": {},
   "source": [
    "พีค\n",
    "2.0\n",
    "ตง\n",
    "2.0\n",
    "เนตร\n",
    "ระเบิด\n",
    "บิ๊ก\n",
    "2.0\n",
    "ภูมิ\n",
    "2"
   ]
  },
  {
   "cell_type": "code",
   "execution_count": 137,
   "id": "d41fb92c-c173-43de-89f1-35cba5a64617",
   "metadata": {},
   "outputs": [
    {
     "data": {
      "text/plain": [
       "0"
      ]
     },
     "execution_count": 137,
     "metadata": {},
     "output_type": "execute_result"
    }
   ],
   "source": [
    "int(\"00\")"
   ]
  },
  {
   "cell_type": "markdown",
   "id": "11b0eb3a-eac2-40de-883a-8dc256c4b598",
   "metadata": {},
   "source": [
    "### Reserved Word\n",
    "---\n",
    "\n",
    "![reservedword](https://miro.medium.com/v2/resize:fit:798/1*r7dfFyNmTDN98UMyCMwvPQ.png)"
   ]
  },
  {
   "cell_type": "markdown",
   "id": "0f23a40d-1c88-48b9-9931-f05402a3070d",
   "metadata": {},
   "source": [
    "# File I/O\n",
    "---\n",
    "\n",
    "f = open(filename, mode)\n",
    "\n",
    "##### mode\n",
    "\n",
    "| mode | การทำงาน                  |\n",
    "|:----:|---------------------------|\n",
    "| r    | อ่านไฟล์                    |\n",
    "| w    | เขียนไฟล์                   |\n",
    "| a    | เขียนไฟล์ (เพิ่มเข้าไป)                   |\n",
    "| r+   | อ่านและเขียน                |\n",
    "| w+   | เขียนและอ่าน                |\n",
    "| a+   | เขียนและอ่าน (เขียนเพิ่มเข้าไป) |\n"
   ]
  },
  {
   "cell_type": "code",
   "execution_count": 138,
   "id": "307ed20e-9dd1-4ef3-901a-dc118a4ff2ff",
   "metadata": {},
   "outputs": [],
   "source": [
    "def writeFile(s,filename):\n",
    "    f = open(filename,'w')\n",
    "    f.write(s)\n",
    "    f.close()"
   ]
  },
  {
   "cell_type": "code",
   "execution_count": null,
   "id": "c6eff89d-7750-4b82-8c07-aad445e17cc8",
   "metadata": {},
   "outputs": [],
   "source": [
    "s = '''Hello World\n",
    "Test\n",
    "1\n",
    "2\n",
    "3\n",
    "4\n",
    "'''\n",
    "writeFile(s,'mytext.txt')\n"
   ]
  },
  {
   "cell_type": "markdown",
   "id": "8236bb48-3e93-4755-8c15-9afe6d76fb32",
   "metadata": {},
   "source": [
    "### Read from a file"
   ]
  },
  {
   "cell_type": "code",
   "execution_count": 144,
   "id": "cfe6ebca-046b-4c38-ad07-aec7fe5c0564",
   "metadata": {
    "scrolled": true
   },
   "outputs": [
    {
     "name": "stdout",
     "output_type": "stream",
     "text": [
      "<_io.TextIOWrapper name='mytext.txt' mode='r' encoding='UTF-8'>\n",
      "Hello World\n",
      "\n",
      "Test\n",
      "\n",
      "1\n",
      "\n",
      "2\n",
      "\n",
      "3\n",
      "\n",
      "4\n",
      "\n"
     ]
    }
   ],
   "source": [
    "file = open('mytext.txt')\n",
    "\n",
    "print(file)\n",
    "\n",
    "for line in file:\n",
    "    print(line)\n",
    "file.close()"
   ]
  },
  {
   "cell_type": "markdown",
   "id": "b90c8ad3-0fce-4930-ad3b-9cb175a78192",
   "metadata": {},
   "source": [
    "### Read from a file 2"
   ]
  },
  {
   "cell_type": "code",
   "execution_count": 140,
   "id": "758de42f-902b-4828-ae12-da1779e56437",
   "metadata": {},
   "outputs": [
    {
     "name": "stdout",
     "output_type": "stream",
     "text": [
      "Hello World\n",
      "Test\n",
      "1\n",
      "2\n",
      "3\n",
      "4\n",
      "\n"
     ]
    }
   ],
   "source": [
    "file = open('mytext.txt','r')\n",
    "txt = file.read()\n",
    "print(txt)\n",
    "file.close()"
   ]
  },
  {
   "cell_type": "markdown",
   "id": "e20d6da3-7cbc-4c78-8b0a-8e67eee4a71e",
   "metadata": {},
   "source": [
    "### Read from a file 3 - with statement"
   ]
  },
  {
   "cell_type": "code",
   "execution_count": 145,
   "id": "97ab1978-dbb4-41ed-813f-39be216967cc",
   "metadata": {},
   "outputs": [
    {
     "name": "stdout",
     "output_type": "stream",
     "text": [
      "Hello World\n",
      "Test\n",
      "1\n",
      "2\n",
      "3\n",
      "4\n",
      "\n"
     ]
    }
   ],
   "source": [
    "with open('mytext.txt') as file:\n",
    "    txt = file.read()\n",
    "    \n",
    "print(txt)"
   ]
  },
  {
   "cell_type": "markdown",
   "id": "d2135ddd-8649-484f-9786-d314382b0693",
   "metadata": {},
   "source": [
    "### Read from a file 4 "
   ]
  },
  {
   "cell_type": "code",
   "execution_count": 146,
   "id": "86336bf5-9c9a-4d8a-9a50-d3a833bd71ec",
   "metadata": {},
   "outputs": [
    {
     "name": "stdout",
     "output_type": "stream",
     "text": [
      "Hello\n"
     ]
    }
   ],
   "source": [
    "file = open('mytext.txt','r')\n",
    "txt = file.read(5) # read first 5 characters\n",
    "print(txt)"
   ]
  },
  {
   "cell_type": "markdown",
   "id": "07801641-7596-4d8e-95bd-a6a52a2ff47d",
   "metadata": {},
   "source": [
    "### Read from a file 5"
   ]
  },
  {
   "cell_type": "code",
   "execution_count": 148,
   "id": "9a98016a-6c38-4f29-b544-eb1520776cf4",
   "metadata": {},
   "outputs": [
    {
     "name": "stdout",
     "output_type": "stream",
     "text": [
      "['Hello World\\n', 'Test\\n', '1\\n', '2\\n', '3\\n', '4\\n']\n",
      "['Hello World', 'Test', '1', '2', '3', '4']\n",
      "Hello World\n",
      "Test\n",
      "1\n",
      "2\n",
      "3\n",
      "4\n"
     ]
    }
   ],
   "source": [
    "with open('mytext.txt','r') as file:\n",
    "    txt = file.readlines()\n",
    "print(txt)\n",
    "print([x.strip() for x in txt])\n",
    "for line in txt:\n",
    "    line = line.strip()\n",
    "    print(line)"
   ]
  },
  {
   "cell_type": "markdown",
   "id": "01b5f214-d32b-4432-83b7-7a82a8c45947",
   "metadata": {},
   "source": [
    "### Write File"
   ]
  },
  {
   "cell_type": "code",
   "execution_count": 150,
   "id": "ab74c506-be6a-4bde-8b13-c5ed5be02fb7",
   "metadata": {},
   "outputs": [
    {
     "name": "stdout",
     "output_type": "stream",
     "text": [
      "Tesco\n"
     ]
    }
   ],
   "source": [
    "file = open('mytext.txt','w')\n",
    "file.write(\"Test\")\n",
    "file.close()\n",
    "\n",
    "file = open('mytext.txt','w')\n",
    "file.write(\"Tesco\")\n",
    "file.close()\n",
    "\n",
    "with open('mytext.txt','r') as file:\n",
    "    print(file.read())\n"
   ]
  },
  {
   "cell_type": "markdown",
   "id": "af0de44b-01b6-4f7a-907b-d64b6b92766e",
   "metadata": {},
   "source": [
    "### Append File"
   ]
  },
  {
   "cell_type": "code",
   "execution_count": 152,
   "id": "f1c5187b-732f-4fdd-ac7a-46f7f7ceb831",
   "metadata": {},
   "outputs": [
    {
     "name": "stdout",
     "output_type": "stream",
     "text": [
      "Test\n",
      "TestAppend\n"
     ]
    }
   ],
   "source": [
    "file = open('mytext.txt','w')\n",
    "file.write(\"Test\")\n",
    "file.close()\n",
    "\n",
    "with open('mytext.txt','r') as file:\n",
    "    print(file.read())\n",
    "\n",
    "file = open('mytext.txt','a')\n",
    "file.write('Append')\n",
    "file.close()\n",
    "\n",
    "with open('mytext.txt','r') as file:\n",
    "    print(file.read())"
   ]
  },
  {
   "cell_type": "code",
   "execution_count": null,
   "id": "5844ff4d-4aec-4485-a908-28c6698bb580",
   "metadata": {},
   "outputs": [],
   "source": [
    "y = lambda x: x+1\n",
    "y(1)\n",
    "\n",
    "def y(x)\n",
    "    return x + 1"
   ]
  },
  {
   "cell_type": "code",
   "execution_count": 156,
   "id": "7821358c-410c-4ee4-9e2f-00a348d3beea",
   "metadata": {},
   "outputs": [
    {
     "name": "stdout",
     "output_type": "stream",
     "text": [
      "K\n"
     ]
    }
   ],
   "source": [
    "z = lambda : print('K')\n",
    "z()"
   ]
  },
  {
   "cell_type": "code",
   "execution_count": null,
   "id": "ecc4d990-9452-4da4-80e4-1fca8b5e8406",
   "metadata": {},
   "outputs": [],
   "source": [
    "u = lambda x: lambda y: x + y\n",
    "v = u(3)\n",
    "print(v(2))"
   ]
  },
  {
   "cell_type": "code",
   "execution_count": 163,
   "id": "5bed1b5f-f94c-4d05-8f34-204f16eb9164",
   "metadata": {},
   "outputs": [
    {
     "name": "stdout",
     "output_type": "stream",
     "text": [
      "<function u.<locals>.y at 0x1078cd940>\n",
      "9\n"
     ]
    }
   ],
   "source": [
    "def u(x):\n",
    "    def y(o):\n",
    "        return o + x\n",
    "    return y\n",
    "\n",
    "v = u(6)\n",
    "print(v)\n",
    "print(v(3))"
   ]
  },
  {
   "cell_type": "code",
   "execution_count": 1,
   "id": "8d860c4b-9cdd-454a-8537-49312d34ac31",
   "metadata": {},
   "outputs": [
    {
     "name": "stdout",
     "output_type": "stream",
     "text": [
      "30\n"
     ]
    }
   ],
   "source": [
    "def func(a):\n",
    "    if a > b:\n",
    "        return a + b\n",
    "    else:\n",
    "        return a - b\n",
    "a = 20\n",
    "b = 10\n",
    "print(func(a))"
   ]
  },
  {
   "cell_type": "code",
   "execution_count": 2,
   "id": "fd3230a8-b274-4bc7-b446-8c434fe3bd93",
   "metadata": {},
   "outputs": [
    {
     "name": "stdout",
     "output_type": "stream",
     "text": [
      "258\n"
     ]
    }
   ],
   "source": [
    "x = -2\n",
    "print(-x+2**2**3)"
   ]
  },
  {
   "cell_type": "code",
   "execution_count": null,
   "id": "aba47716-8a36-4968-be6e-3495996be4b6",
   "metadata": {},
   "outputs": [],
   "source": []
  }
 ],
 "metadata": {
  "kernelspec": {
   "display_name": "Python 3 (ipykernel)",
   "language": "python",
   "name": "python3"
  },
  "language_info": {
   "codemirror_mode": {
    "name": "ipython",
    "version": 3
   },
   "file_extension": ".py",
   "mimetype": "text/x-python",
   "name": "python",
   "nbconvert_exporter": "python",
   "pygments_lexer": "ipython3",
   "version": "3.11.2"
  }
 },
 "nbformat": 4,
 "nbformat_minor": 5
}
